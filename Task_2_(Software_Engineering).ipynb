{
  "nbformat": 4,
  "nbformat_minor": 0,
  "metadata": {
    "colab": {
      "provenance": [],
      "authorship_tag": "ABX9TyP6/7pukq9fBoLXxS2c+oXK",
      "include_colab_link": true
    },
    "kernelspec": {
      "name": "python3",
      "display_name": "Python 3"
    },
    "language_info": {
      "name": "python"
    }
  },
  "cells": [
    {
      "cell_type": "markdown",
      "metadata": {
        "id": "view-in-github",
        "colab_type": "text"
      },
      "source": [
        "<a href=\"https://colab.research.google.com/github/vemulasohan/Colab-programes-Task-2-/blob/main/Task_2_(Software_Engineering).ipynb\" target=\"_parent\"><img src=\"https://colab.research.google.com/assets/colab-badge.svg\" alt=\"Open In Colab\"/></a>"
      ]
    },
    {
      "cell_type": "markdown",
      "source": [
        "# **Task-2**\n",
        "# **Software Engineering**\n",
        "\n",
        "\n",
        "---\n",
        "\n"
      ],
      "metadata": {
        "id": "Jal262KQmENQ"
      }
    },
    {
      "cell_type": "markdown",
      "source": [
        "# **write any  program is goggle colab using hard coding variables**\n",
        "**Hardcoding Variables**: Demonstrate by using predefined values."
      ],
      "metadata": {
        "id": "XIAWHc0ClNtB"
      }
    },
    {
      "cell_type": "code",
      "execution_count": null,
      "metadata": {
        "colab": {
          "base_uri": "https://localhost:8080/"
        },
        "id": "ETKaYcVAlGvv",
        "outputId": "7c23f228-2646-4991-b436-749743144a29"
      },
      "outputs": [
        {
          "output_type": "stream",
          "name": "stdout",
          "text": [
            "Sum of 20 and 40 is 60\n"
          ]
        }
      ],
      "source": [
        "# Hardcoded variables represent fixed values in the code.\n",
        "a = 20\n",
        "b = 40\n",
        "\n",
        "result = a + b\n",
        "print(f\"Sum of {a} and {b} is {result}\")"
      ]
    },
    {
      "cell_type": "markdown",
      "source": [
        "# **write any program is goggle colab using keyboard input**\n",
        "**Keyboard Input**: Use Python's input() to accept data from the user."
      ],
      "metadata": {
        "id": "EjM8wAGnndOM"
      }
    },
    {
      "cell_type": "code",
      "source": [
        "#Keyboard Input with Retry Option\n",
        "\n",
        "while True:\n",
        "    try:\n",
        "        x = int(input(\"Enter the first number: \"))\n",
        "        y = int(input(\"Enter the second number: \"))\n",
        "        result = x + y\n",
        "        print(f\"The sum of {x} and {y} is: {result}\")\n",
        "        break  # Exit the loop after successful input\n",
        "    except ValueError:\n",
        "        print(\"Invalid input! Please enter valid integers.\")\n",
        "    except Exception as e:\n",
        "        print(f\"An unexpected error occurred: {e}\")\n"
      ],
      "metadata": {
        "colab": {
          "base_uri": "https://localhost:8080/"
        },
        "id": "HOPZxeIUn36o",
        "outputId": "14e4aac5-b22a-4ef3-993a-60a81ed3eb07"
      },
      "execution_count": null,
      "outputs": [
        {
          "output_type": "stream",
          "name": "stdout",
          "text": [
            "Enter the first number: 5\n",
            "Enter the second number: 9\n",
            "The sum of 5 and 9 is: 14\n"
          ]
        }
      ]
    },
    {
      "cell_type": "markdown",
      "source": [
        "# **write any program is goggle colab using Read From File (Single Input)**\n",
        "**Read From File (Single Input)**: Read a single input from a file."
      ],
      "metadata": {
        "id": "ETZvNtCNoeGQ"
      }
    },
    {
      "cell_type": "code",
      "source": [
        "# Reading a single input from a file.\n",
        "try:\n",
        "    with open(\"single_input.txt\", \"w\") as f:\n",
        "        f.write(\"88\")\n",
        "    with open(\"single_input.txt\", \"r\") as f:\n",
        "        num = int(f.read().strip())\n",
        "        print(f\"Result: {num} * 2 = {num * 2}\")\n",
        "except (FileNotFoundError, ValueError):\n",
        "    print(\"Error: File not found or invalid content!\")\n"
      ],
      "metadata": {
        "colab": {
          "base_uri": "https://localhost:8080/"
        },
        "id": "ea9606Q4oyjA",
        "outputId": "dbee15fa-e5c2-4813-8357-f6efe56f97de"
      },
      "execution_count": null,
      "outputs": [
        {
          "output_type": "stream",
          "name": "stdout",
          "text": [
            "Result: 88 * 2 = 176\n"
          ]
        }
      ]
    },
    {
      "cell_type": "markdown",
      "source": [
        "#**write any program is goggle colab using Read From File (Multiple Input)**\n",
        "**Read From File (Multiple Inputs)**: Read multiple inputs from a file and process them."
      ],
      "metadata": {
        "id": "jc-uPjf9p-mn"
      }
    },
    {
      "cell_type": "code",
      "source": [
        "# Save a file with multiple inputs\n",
        "file_name = \"multiple_inputs.txt\"\n",
        "\n",
        "with open(file_name, \"w\") as f:\n",
        "    f.write(\"3\\n5\\n7\")  # Writing multiple numbers, one per line\n",
        "\n",
        "# Function to read numbers from the file and calculate their sum\n",
        "def read_and_sum_numbers(file_path):\n",
        "    try:\n",
        "        with open(file_path, \"r\") as f:\n",
        "            # Reading and converting each line to an integer\n",
        "            numbers = [int(line.strip()) for line in f if line.strip().isdigit()]\n",
        "            result = sum(numbers)\n",
        "            print(f\"Numbers read from file: {numbers}, Sum = {result}\")\n",
        "    except FileNotFoundError:\n",
        "        print(f\"Error: File '{file_path}' not found!\")\n",
        "    except ValueError as e:\n",
        "        print(f\"Error in reading or converting the inputs: {e}\")\n",
        "\n",
        "# Call the function\n",
        "read_and_sum_numbers(file_name)\n"
      ],
      "metadata": {
        "colab": {
          "base_uri": "https://localhost:8080/"
        },
        "id": "I7yPQvF4rpwg",
        "outputId": "b09629c0-014e-4b8e-f8da-8e1dc027d8b7"
      },
      "execution_count": null,
      "outputs": [
        {
          "output_type": "stream",
          "name": "stdout",
          "text": [
            "Numbers read from file: [3, 5, 7], Sum = 15\n"
          ]
        }
      ]
    }
  ]
}